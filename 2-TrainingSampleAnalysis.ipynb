{
 "cells": [
  {
   "cell_type": "code",
   "execution_count": 1,
   "metadata": {
    "collapsed": false
   },
   "outputs": [
    {
     "name": "stdout",
     "output_type": "stream",
     "text": [
      "Modules loaded.\n"
     ]
    }
   ],
   "source": [
    "import os\n",
    "import sys\n",
    "import numpy as np\n",
    "import matplotlib.pyplot as plt\n",
    "import matplotlib.image as mpimg\n",
    "from matplotlib.patches import Rectangle\n",
    "from collections import Counter\n",
    "from six.moves import cPickle as pickle\n",
    "from scipy import ndimage\n",
    "from scipy.misc import imresize\n",
    "import tensorflow as tf\n",
    "from collections import Counter\n",
    "import copy\n",
    "\n",
    "# Config the matplotlib backend as plotting inline in IPython\n",
    "%matplotlib inline\n",
    "\n",
    "print('Modules loaded.')"
   ]
  },
  {
   "cell_type": "code",
   "execution_count": 2,
   "metadata": {
    "collapsed": true
   },
   "outputs": [],
   "source": [
    "with open('train_metadata.pickle', 'rb') as f:\n",
    "    train_metadata = pickle.load(f)\n",
    "\n",
    "with open('./test_metadata.pickle', 'rb') as f:\n",
    "    test_metadata = pickle.load(f)\n",
    "    \n",
    "with open('./extra_metadata.pickle', 'rb') as f:\n",
    "    extra_metadata = pickle.load(f)"
   ]
  },
  {
   "cell_type": "code",
   "execution_count": 3,
   "metadata": {
    "collapsed": true
   },
   "outputs": [],
   "source": [
    "def remove_item_by_sequence_length(metadata, length):\n",
    "    itemindex = np.argwhere(np.array(metadata['length'])==length)\n",
    "    \n",
    "    if (len(itemindex)>0):\n",
    "        for i in range(len(itemindex)):\n",
    "            del metadata['image'][np.asscalar(itemindex[i])]\n",
    "            del metadata['length'][np.asscalar(itemindex[i])]\n",
    "            del metadata['label'][np.asscalar(itemindex[i])]\n",
    "            del metadata['width'][np.asscalar(itemindex[i])]\n",
    "            del metadata['height'][np.asscalar(itemindex[i])]\n",
    "            del metadata['top'][np.asscalar(itemindex[i])]\n",
    "            del metadata['left'][np.asscalar(itemindex[i])]\n",
    "        print('%s item removed.' % len(itemindex))\n",
    "    else:\n",
    "        print('No item with length %s.' % length)\n",
    "    return metadata"
   ]
  },
  {
   "cell_type": "code",
   "execution_count": 4,
   "metadata": {
    "collapsed": false
   },
   "outputs": [
    {
     "name": "stdout",
     "output_type": "stream",
     "text": [
      "1 item removed.\n"
     ]
    }
   ],
   "source": [
    "train_metadata=remove_item_by_sequence_length(train_metadata, 6)"
   ]
  },
  {
   "cell_type": "code",
   "execution_count": 5,
   "metadata": {
    "collapsed": false
   },
   "outputs": [
    {
     "name": "stdout",
     "output_type": "stream",
     "text": [
      "(33401, 5)\n"
     ]
    }
   ],
   "source": [
    "train_labels = np.zeros((1,5),dtype=np.int32)\n",
    "for i in range(len(train_metadata['length'])):\n",
    "    l=train_metadata['length'][i]\n",
    "    label = 10*np.ones((1,5),dtype=np.int32)\n",
    "    for j in range(l):\n",
    "        label[0,j]=train_metadata['label'][i][j]\n",
    "    train_labels = np.concatenate((train_labels,label),axis=0)\n",
    "train_labels=train_labels[1:,:]\n",
    "print(train_labels.shape)"
   ]
  },
  {
   "cell_type": "code",
   "execution_count": 6,
   "metadata": {
    "collapsed": false
   },
   "outputs": [
    {
     "name": "stdout",
     "output_type": "stream",
     "text": [
      "(202353, 5)\n"
     ]
    }
   ],
   "source": [
    "extra_labels = np.zeros((1,5),dtype=np.int32)\n",
    "for i in range(len(extra_metadata['length'])):\n",
    "    l=extra_metadata['length'][i]\n",
    "    label = 10*np.ones((1,5),dtype=np.int32)\n",
    "    for j in range(l):\n",
    "        label[0,j]=extra_metadata['label'][i][j]\n",
    "    extra_labels = np.concatenate((extra_labels,label),axis=0)\n",
    "extra_labels=extra_labels[1:,:]\n",
    "print(extra_labels.shape)"
   ]
  },
  {
   "cell_type": "code",
   "execution_count": 7,
   "metadata": {
    "collapsed": false
   },
   "outputs": [
    {
     "name": "stdout",
     "output_type": "stream",
     "text": [
      "(235754, 5)\n"
     ]
    }
   ],
   "source": [
    "combined_train_labels = np.concatenate((train_labels,extra_labels),axis=0)\n",
    "print(combined_train_labels.shape)"
   ]
  },
  {
   "cell_type": "code",
   "execution_count": 8,
   "metadata": {
    "collapsed": false
   },
   "outputs": [
    {
     "name": "stdout",
     "output_type": "stream",
     "text": [
      "(235754,)\n"
     ]
    }
   ],
   "source": [
    "train_length = np.array(train_metadata['length'])\n",
    "extra_length = np.array(extra_metadata['length'])\n",
    "combined_train_length=np.concatenate((train_length,extra_length),axis=0)\n",
    "print(combined_train_length.shape)"
   ]
  },
  {
   "cell_type": "code",
   "execution_count": 9,
   "metadata": {
    "collapsed": true
   },
   "outputs": [],
   "source": [
    "def plot_length_hist(data,max_freq,title):\n",
    "    label_chars=['1','2','3','4','5']\n",
    "    tickLocations = np.arange(len(label_chars))\n",
    "\n",
    "    fig, ax = plt.subplots(figsize=(6, 3.5))\n",
    "    n, bins, patches = plt.hist(data-1, bins=range(0,12), align='left')\n",
    "    ax.set_xticks(ticks= tickLocations)\n",
    "    ax.set_xticklabels(label_chars)\n",
    "    plt.axis([-1,5,0,max_freq])\n",
    "    plt.title(title)\n",
    "    plt.ylabel(\"Frequency\")\n",
    "    plt.xlabel(\"Digit sequence length\")\n",
    "    plt.show()"
   ]
  },
  {
   "cell_type": "code",
   "execution_count": 10,
   "metadata": {
    "collapsed": true
   },
   "outputs": [],
   "source": [
    "def plot_position_hist(data,title,max_freq):\n",
    "    label_chars=['0','1','2','3','4','5','6','7','8','9','_']\n",
    "    tickLocations = np.arange(len(label_chars))\n",
    "\n",
    "    fig, ax = plt.subplots(figsize=(4, 3.5))\n",
    "    n, bins, patches = plt.hist(data, bins=range(0,12), align='left')\n",
    "    ax.set_xticks(ticks= tickLocations)\n",
    "    ax.set_xticklabels(label_chars)\n",
    "    plt.axis([-1,11,0,max_freq])\n",
    "    plt.title(title)\n",
    "    plt.ylabel(\"Frequency\")\n",
    "    plt.xlabel(\"Digit\")\n",
    "    plt.show()"
   ]
  },
  {
   "cell_type": "code",
   "execution_count": 11,
   "metadata": {
    "collapsed": false
   },
   "outputs": [
    {
     "data": {
      "image/png": "[encoded data removed]",
      "text/plain": [
       "<matplotlib.figure.Figure at 0x7f08df52e990>"
      ]
     },
     "metadata": {},
     "output_type": "display_data"
    }
   ],
   "source": [
    "plot_length_hist(combined_train_length, 130000, \"Combined training dataset length histogram\")"
   ]
  },
  {
   "cell_type": "code",
   "execution_count": 12,
   "metadata": {
    "collapsed": false
   },
   "outputs": [
    {
     "data": {
      "text/plain": [
       "Counter({1: 14522, 2: 89856, 3: 115480, 4: 15772, 5: 124})"
      ]
     },
     "execution_count": 12,
     "metadata": {},
     "output_type": "execute_result"
    }
   ],
   "source": [
    "Counter(combined_train_length)"
   ]
  },
  {
   "cell_type": "code",
   "execution_count": 13,
   "metadata": {
    "collapsed": false
   },
   "outputs": [
    {
     "data": {
      "image/png": "[encoded data removed]",
      "text/plain": [
       "<matplotlib.figure.Figure at 0x7f08d7139790>"
      ]
     },
     "metadata": {},
     "output_type": "display_data"
    }
   ],
   "source": [
    "plot_position_hist(combined_train_labels[:,0],\"Position 1\",75000)"
   ]
  },
  {
   "cell_type": "code",
   "execution_count": 14,
   "metadata": {
    "collapsed": false
   },
   "outputs": [
    {
     "data": {
      "text/plain": [
       "Counter({0: 623,\n",
       "         1: 65602,\n",
       "         2: 45816,\n",
       "         3: 31933,\n",
       "         4: 24847,\n",
       "         5: 19434,\n",
       "         6: 14459,\n",
       "         7: 13835,\n",
       "         8: 10119,\n",
       "         9: 9086})"
      ]
     },
     "execution_count": 14,
     "metadata": {},
     "output_type": "execute_result"
    }
   ],
   "source": [
    "Counter(combined_train_labels[:,0])"
   ]
  },
  {
   "cell_type": "code",
   "execution_count": 15,
   "metadata": {
    "collapsed": false
   },
   "outputs": [
    {
     "data": {
      "image/png": "[encoded data removed]",
      "text/plain": [
       "<matplotlib.figure.Figure at 0x7f08d6fe87d0>"
      ]
     },
     "metadata": {},
     "output_type": "display_data"
    }
   ],
   "source": [
    "plot_position_hist(combined_train_labels[:,1],\"Position 2\",35000)"
   ]
  },
  {
   "cell_type": "code",
   "execution_count": 16,
   "metadata": {
    "collapsed": false
   },
   "outputs": [
    {
     "data": {
      "text/plain": [
       "Counter({0: 28390,\n",
       "         1: 24362,\n",
       "         2: 25168,\n",
       "         3: 23135,\n",
       "         4: 20960,\n",
       "         5: 22934,\n",
       "         6: 19509,\n",
       "         7: 21325,\n",
       "         8: 18025,\n",
       "         9: 17424,\n",
       "         10: 14522})"
      ]
     },
     "execution_count": 16,
     "metadata": {},
     "output_type": "execute_result"
    }
   ],
   "source": [
    "Counter(combined_train_labels[:,1])"
   ]
  },
  {
   "cell_type": "code",
   "execution_count": 17,
   "metadata": {
    "collapsed": false
   },
   "outputs": [
    {
     "data": {
      "image/png": "[encoded data removed]",
      "text/plain": [
       "<matplotlib.figure.Figure at 0x7f08d6ef88d0>"
      ]
     },
     "metadata": {},
     "output_type": "display_data"
    }
   ],
   "source": [
    "plot_position_hist(combined_train_labels[:,2],\"Position 3\",110000)"
   ]
  },
  {
   "cell_type": "code",
   "execution_count": 18,
   "metadata": {
    "collapsed": false
   },
   "outputs": [
    {
     "data": {
      "text/plain": [
       "Counter({0: 18805,\n",
       "         1: 12818,\n",
       "         2: 12897,\n",
       "         3: 12716,\n",
       "         4: 10964,\n",
       "         5: 16051,\n",
       "         6: 11956,\n",
       "         7: 12910,\n",
       "         8: 10961,\n",
       "         9: 11298,\n",
       "         10: 104378})"
      ]
     },
     "execution_count": 18,
     "metadata": {},
     "output_type": "execute_result"
    }
   ],
   "source": [
    "Counter(combined_train_labels[:,2])"
   ]
  },
  {
   "cell_type": "code",
   "execution_count": 19,
   "metadata": {
    "collapsed": false
   },
   "outputs": [
    {
     "data": {
      "image/png": "[encoded data removed]",
      "text/plain": [
       "<matplotlib.figure.Figure at 0x7f08d6e6cfd0>"
      ]
     },
     "metadata": {},
     "output_type": "display_data"
    }
   ],
   "source": [
    "plot_position_hist(combined_train_labels[:,3],\"Position 4\",225000)"
   ]
  },
  {
   "cell_type": "code",
   "execution_count": 20,
   "metadata": {
    "collapsed": false
   },
   "outputs": [
    {
     "data": {
      "text/plain": [
       "Counter({0: 2661,\n",
       "         1: 1624,\n",
       "         2: 1437,\n",
       "         3: 1466,\n",
       "         4: 1311,\n",
       "         5: 1939,\n",
       "         6: 1371,\n",
       "         7: 1506,\n",
       "         8: 1290,\n",
       "         9: 1291,\n",
       "         10: 219858})"
      ]
     },
     "execution_count": 20,
     "metadata": {},
     "output_type": "execute_result"
    }
   ],
   "source": [
    "Counter(combined_train_labels[:,3])"
   ]
  },
  {
   "cell_type": "code",
   "execution_count": 21,
   "metadata": {
    "collapsed": false
   },
   "outputs": [
    {
     "data": {
      "image/png": "[encoded data removed]",
      "text/plain": [
       "<matplotlib.figure.Figure at 0x7f08d6cc0190>"
      ]
     },
     "metadata": {},
     "output_type": "display_data"
    }
   ],
   "source": [
    "plot_position_hist(combined_train_labels[:,4],\"Position 5\",240000)"
   ]
  },
  {
   "cell_type": "code",
   "execution_count": 22,
   "metadata": {
    "collapsed": false
   },
   "outputs": [
    {
     "data": {
      "text/plain": [
       "Counter({0: 19,\n",
       "         1: 14,\n",
       "         2: 7,\n",
       "         3: 11,\n",
       "         4: 8,\n",
       "         5: 12,\n",
       "         6: 14,\n",
       "         7: 16,\n",
       "         8: 7,\n",
       "         9: 16,\n",
       "         10: 235630})"
      ]
     },
     "execution_count": 22,
     "metadata": {},
     "output_type": "execute_result"
    }
   ],
   "source": [
    "Counter(combined_train_labels[:,4])"
   ]
  }
 ],
 "metadata": {
  "anaconda-cloud": {},
  "kernelspec": {
   "display_name": "Python [conda env:tensorflowGPU]",
   "language": "python",
   "name": "conda-env-tensorflowGPU-py"
  },
  "language_info": {
   "codemirror_mode": {
    "name": "ipython",
    "version": 2
   },
   "file_extension": ".py",
   "mimetype": "text/x-python",
   "name": "python",
   "nbconvert_exporter": "python",
   "pygments_lexer": "ipython2",
   "version": "2.7.12"
  }
 },
 "nbformat": 4,
 "nbformat_minor": 1
}
